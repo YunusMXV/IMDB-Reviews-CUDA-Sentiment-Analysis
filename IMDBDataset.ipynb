{
  "cells": [
    {
      "cell_type": "code",
      "execution_count": null,
      "metadata": {
        "id": "_UFXmiQECFJ3"
      },
      "outputs": [],
      "source": [
        "# from selenium import webdriver\n",
        "# from selenium.webdriver.common.by import By\n",
        "# from selenium.webdriver.support.ui import WebDriverWait\n",
        "# from selenium.webdriver.support import expected_conditions as EC\n",
        "# from bs4 import BeautifulSoup\n",
        "# import pandas as pd\n",
        "\n",
        "# movie_urls = [\n",
        "#     'https://www.imdb.com/title/tt0468569/reviews',  # The Dark Knight (2008)\n",
        "#     'https://www.imdb.com/title/tt1375666/reviews',  # Inception (2010)\n",
        "#     'https://www.imdb.com/title/tt4154796/reviews',  # Avengers: Endgame (2019)\n",
        "# ]"
      ]
    },
    {
      "cell_type": "code",
      "execution_count": null,
      "metadata": {
        "id": "JsZAhHOOCFJ_",
        "outputId": "94485249-6a32-492f-9d76-404171668efb"
      },
      "outputs": [
        {
          "name": "stdout",
          "output_type": "stream",
          "text": [
            "Requirement already satisfied: selenium in e:\\python\\lib\\site-packages (4.8.3)\n",
            "Requirement already satisfied: trio-websocket~=0.9 in e:\\python\\lib\\site-packages (from selenium) (0.10.2)\n",
            "Requirement already satisfied: urllib3[socks]~=1.26 in e:\\python\\lib\\site-packages (from selenium) (1.26.15)\n",
            "Requirement already satisfied: trio~=0.17 in e:\\python\\lib\\site-packages (from selenium) (0.22.0)\n",
            "Requirement already satisfied: certifi>=2021.10.8 in e:\\python\\lib\\site-packages (from selenium) (2022.12.7)\n",
            "Requirement already satisfied: wsproto>=0.14 in e:\\python\\lib\\site-packages (from trio-websocket~=0.9->selenium) (1.2.0)\n",
            "Requirement already satisfied: exceptiongroup in e:\\python\\lib\\site-packages (from trio-websocket~=0.9->selenium) (1.1.1)\n",
            "Requirement already satisfied: PySocks!=1.5.7,<2.0,>=1.5.6; extra == \"socks\" in e:\\python\\lib\\site-packages (from urllib3[socks]~=1.26->selenium) (1.7.1)\n",
            "Requirement already satisfied: idna in e:\\python\\lib\\site-packages (from trio~=0.17->selenium) (2.10)\n",
            "Requirement already satisfied: sortedcontainers in e:\\python\\lib\\site-packages (from trio~=0.17->selenium) (2.2.2)\n",
            "Requirement already satisfied: cffi>=1.14; os_name == \"nt\" and implementation_name != \"pypy\" in e:\\python\\lib\\site-packages (from trio~=0.17->selenium) (1.14.3)\n",
            "Requirement already satisfied: attrs>=19.2.0 in e:\\python\\lib\\site-packages (from trio~=0.17->selenium) (20.3.0)\n",
            "Requirement already satisfied: sniffio in e:\\python\\lib\\site-packages (from trio~=0.17->selenium) (1.3.0)\n",
            "Requirement already satisfied: async-generator>=1.9 in e:\\python\\lib\\site-packages (from trio~=0.17->selenium) (1.10)\n",
            "Requirement already satisfied: outcome in e:\\python\\lib\\site-packages (from trio~=0.17->selenium) (1.2.0)\n",
            "Requirement already satisfied: h11<1,>=0.9.0 in e:\\python\\lib\\site-packages (from wsproto>=0.14->trio-websocket~=0.9->selenium) (0.14.0)\n",
            "Requirement already satisfied: pycparser in e:\\python\\lib\\site-packages (from cffi>=1.14; os_name == \"nt\" and implementation_name != \"pypy\"->trio~=0.17->selenium) (2.20)\n",
            "Note: you may need to restart the kernel to use updated packages.\n"
          ]
        }
      ],
      "source": [
        "pip install selenium"
      ]
    },
    {
      "cell_type": "code",
      "execution_count": null,
      "metadata": {
        "id": "9TTIPgLrCFKB",
        "outputId": "1b8efdf4-5e3f-41c6-c0a7-f1d29d89a632"
      },
      "outputs": [
        {
          "ename": "KeyError",
          "evalue": "'data-params'",
          "output_type": "error",
          "traceback": [
            "\u001b[1;31m---------------------------------------------------------------------------\u001b[0m",
            "\u001b[1;31mKeyError\u001b[0m                                  Traceback (most recent call last)",
            "Cell \u001b[1;32mIn [42], line 17\u001b[0m\n\u001b[0;32m     15\u001b[0m load_more_url \u001b[38;5;241m=\u001b[39m load_more_button[\u001b[38;5;124m'\u001b[39m\u001b[38;5;124mdata-ajaxurl\u001b[39m\u001b[38;5;124m'\u001b[39m]\n\u001b[0;32m     16\u001b[0m load_more_key \u001b[38;5;241m=\u001b[39m load_more_button[\u001b[38;5;124m'\u001b[39m\u001b[38;5;124mdata-key\u001b[39m\u001b[38;5;124m'\u001b[39m]\n\u001b[1;32m---> 17\u001b[0m load_more_data \u001b[38;5;241m=\u001b[39m \u001b[43mload_more_button\u001b[49m\u001b[43m[\u001b[49m\u001b[38;5;124;43m'\u001b[39;49m\u001b[38;5;124;43mdata-params\u001b[39;49m\u001b[38;5;124;43m'\u001b[39;49m\u001b[43m]\u001b[49m\n\u001b[0;32m     19\u001b[0m \u001b[38;5;66;03m# Send an AJAX request to load more reviews\u001b[39;00m\n\u001b[0;32m     20\u001b[0m load_more_response \u001b[38;5;241m=\u001b[39m requests\u001b[38;5;241m.\u001b[39mget(\u001b[38;5;124mf\u001b[39m\u001b[38;5;124m\"\u001b[39m\u001b[38;5;132;01m{\u001b[39;00mload_more_url\u001b[38;5;132;01m}\u001b[39;00m\u001b[38;5;124m?\u001b[39m\u001b[38;5;132;01m{\u001b[39;00mload_more_data\u001b[38;5;132;01m}\u001b[39;00m\u001b[38;5;124m&key=\u001b[39m\u001b[38;5;132;01m{\u001b[39;00mload_more_key\u001b[38;5;132;01m}\u001b[39;00m\u001b[38;5;124m\"\u001b[39m)\n",
            "File \u001b[1;32mE:\\Python\\lib\\site-packages\\bs4\\element.py:1406\u001b[0m, in \u001b[0;36mTag.__getitem__\u001b[1;34m(self, key)\u001b[0m\n\u001b[0;32m   1403\u001b[0m \u001b[38;5;28;01mdef\u001b[39;00m \u001b[38;5;21m__getitem__\u001b[39m(\u001b[38;5;28mself\u001b[39m, key):\n\u001b[0;32m   1404\u001b[0m     \u001b[38;5;124;03m\"\"\"tag[key] returns the value of the 'key' attribute for the Tag,\u001b[39;00m\n\u001b[0;32m   1405\u001b[0m \u001b[38;5;124;03m    and throws an exception if it's not there.\"\"\"\u001b[39;00m\n\u001b[1;32m-> 1406\u001b[0m     \u001b[38;5;28;01mreturn\u001b[39;00m \u001b[38;5;28;43mself\u001b[39;49m\u001b[38;5;241;43m.\u001b[39;49m\u001b[43mattrs\u001b[49m\u001b[43m[\u001b[49m\u001b[43mkey\u001b[49m\u001b[43m]\u001b[49m\n",
            "\u001b[1;31mKeyError\u001b[0m: 'data-params'"
          ]
        }
      ],
      "source": [
        "# reviews_list = []\n",
        "\n",
        "# for url in movie_urls:\n",
        "\n",
        "#     # Make the initial request to the URL\n",
        "#     response = requests.get(url)\n",
        "#     soup = BeautifulSoup(response.text, 'html.parser')\n",
        "\n",
        "#     # Find the \"Load More\" button on the page\n",
        "#     load_more_button = soup.find('div', {'class': 'load-more-data'})\n",
        "\n",
        "#     # If the button is present, make AJAX requests until all reviews are loaded\n",
        "#     while load_more_button is not None:\n",
        "#         # Extract the AJAX parameters from the button element\n",
        "#         load_more_url = load_more_button['data-ajaxurl']\n",
        "#         load_more_key = load_more_button['data-key']\n",
        "#         load_more_data = load_more_button['data-params']\n",
        "\n",
        "#         # Send an AJAX request to load more reviews\n",
        "#         load_more_response = requests.get(f\"{load_more_url}?{load_more_data}&key={load_more_key}\")\n",
        "#         load_more_soup = BeautifulSoup(load_more_response.text, 'html.parser')\n",
        "\n",
        "#         # Find all review containers on the page and extract review text and rating\n",
        "#         reviews = load_more_soup.find_all('div', class_= 'review-container')\n",
        "#         for review in reviews:\n",
        "#             review_text = review.find('div', class_='text').text.strip()\n",
        "#             rating_element = review.find('span', class_='rating-other-user-rating')\n",
        "#             if rating_element is not None:\n",
        "#                 rating = rating_element.find('span').text.strip()\n",
        "#                 if rating:\n",
        "#                     rating = int(rating.split('/')[0])\n",
        "#             else:\n",
        "#                 rating = None\n",
        "#             sentiment = 'positive' if rating and rating > 5 else 'negative' if rating and rating <= 5 else None\n",
        "#             reviews_list.append((review_text, sentiment))\n",
        "\n",
        "#         # Find the new \"Load More\" button on the page, if there is one\n",
        "#         load_more_button = load_more_soup.find('div', {'class': 'load-more-data'})\n",
        "#         #sentiment = 'positive' if int(rating) > 5 else 'negative' if rating is not None else None\n",
        "#         #reviews_list.append((review_text, sentiment))"
      ]
    },
    {
      "cell_type": "code",
      "execution_count": null,
      "metadata": {
        "id": "Uf1utCunCFKD",
        "outputId": "9919d0a9-736d-49f6-e9b5-7d3db816d3c3"
      },
      "outputs": [
        {
          "ename": "TypeError",
          "evalue": "int() argument must be a string, a bytes-like object or a number, not 'NoneType'",
          "output_type": "error",
          "traceback": [
            "\u001b[1;31m---------------------------------------------------------------------------\u001b[0m",
            "\u001b[1;31mTypeError\u001b[0m                                 Traceback (most recent call last)",
            "Cell \u001b[1;32mIn [7], line 16\u001b[0m\n\u001b[0;32m     14\u001b[0m review_text \u001b[38;5;241m=\u001b[39m review\u001b[38;5;241m.\u001b[39mtext\n\u001b[0;32m     15\u001b[0m rating \u001b[38;5;241m=\u001b[39m review\u001b[38;5;241m.\u001b[39mfind_previous(\u001b[38;5;124m'\u001b[39m\u001b[38;5;124mspan\u001b[39m\u001b[38;5;124m'\u001b[39m, class_\u001b[38;5;241m=\u001b[39m\u001b[38;5;124m'\u001b[39m\u001b[38;5;124mrating-other-user-rating\u001b[39m\u001b[38;5;124m'\u001b[39m)\u001b[38;5;241m.\u001b[39mtext\u001b[38;5;241m.\u001b[39mstrip() \u001b[38;5;28;01mif\u001b[39;00m review\u001b[38;5;241m.\u001b[39mfind_previous(\u001b[38;5;124m'\u001b[39m\u001b[38;5;124mspan\u001b[39m\u001b[38;5;124m'\u001b[39m, class_\u001b[38;5;241m=\u001b[39m\u001b[38;5;124m'\u001b[39m\u001b[38;5;124mrating-other-user-rating\u001b[39m\u001b[38;5;124m'\u001b[39m) \u001b[38;5;28;01melse\u001b[39;00m \u001b[38;5;28;01mNone\u001b[39;00m\n\u001b[1;32m---> 16\u001b[0m sentiment \u001b[38;5;241m=\u001b[39m \u001b[38;5;124m'\u001b[39m\u001b[38;5;124mpositive\u001b[39m\u001b[38;5;124m'\u001b[39m \u001b[38;5;28;01mif\u001b[39;00m \u001b[38;5;28;43mint\u001b[39;49m\u001b[43m(\u001b[49m\u001b[43mrating\u001b[49m\u001b[43m)\u001b[49m \u001b[38;5;241m>\u001b[39m \u001b[38;5;241m5\u001b[39m \u001b[38;5;28;01melse\u001b[39;00m \u001b[38;5;124m'\u001b[39m\u001b[38;5;124mnegative\u001b[39m\u001b[38;5;124m'\u001b[39m \u001b[38;5;28;01mif\u001b[39;00m rating \u001b[38;5;129;01mis\u001b[39;00m \u001b[38;5;129;01mnot\u001b[39;00m \u001b[38;5;28;01mNone\u001b[39;00m \u001b[38;5;28;01melse\u001b[39;00m \u001b[38;5;28;01mNone\u001b[39;00m\n\u001b[0;32m     17\u001b[0m reviews_list\u001b[38;5;241m.\u001b[39mappend((review_text, sentiment))\n",
            "\u001b[1;31mTypeError\u001b[0m: int() argument must be a string, a bytes-like object or a number, not 'NoneType'"
          ]
        }
      ],
      "source": [
        "# for url in movie_urls:\n",
        "\n",
        "#     # Step 1: Send a request to the URL\n",
        "#     response = requests.get(url)\n",
        "\n",
        "#     # Step 2: Parse the HTML\n",
        "#     soup = BeautifulSoup(response.text, 'html.parser')\n",
        "\n",
        "#     # Step 3: Find the reviews section\n",
        "#     reviews = soup.find_all('div', class_='text show-more__control')\n",
        "\n",
        "#     # Step 4: Extract the reviews and sentiment labels\n",
        "#     for review in reviews:\n",
        "#         review_text = review.text\n",
        "#         rating = review.find_previous('span', class_='rating-other-user-rating').text.strip() if review.find_previous('span', class_='rating-other-user-rating') else None\n",
        "#         sentiment = 'positive' if int(rating) > 5 else 'negative' if rating is not None else None\n",
        "#         reviews_list.append((review_text, sentiment))"
      ]
    },
    {
      "cell_type": "code",
      "execution_count": null,
      "metadata": {
        "id": "GL_VjkB4CFKE",
        "outputId": "734ebdd5-2a5f-4ab6-f9fc-5c5fb274313e"
      },
      "outputs": [
        {
          "name": "stdout",
          "output_type": "stream",
          "text": [
            "[<div class=\"text show-more__control\">But its a pretty good film. A bit of a mess in some parts, lacking the cohesive and effortless feel infinity war somehow managed to accomplish. Some silly plot holes and characters that could've been cut (Ahem, captain marvel and thanos). The use of Captain marvel in this film was just ridiculous. Shes there at the start, bails for some reason? And then pops up at the end to serve no purpose but deux ex machina a space ship...<br/><br/>The past thanos part wasn't necessary when you think about it, they could've done this film without a real 'villain' And it would've worked and been a original take on a super hero film without using the same formula we have seen in 10+ super hero films already. The entire final battle felt like a rehashed messy battle, with a bunch more characters against thanos - basically mixing the space battle from infinity war; iron man, spider man etc and the final battle of infinity war with captain america, thor etc.. mashing those two into one within this new film. The scenes of trying to pull the gauntlet off his hand.. it all felt like a rehash.<br/><br/>To me the best part of the film was the first act and half of the second, when everyone is lost and trying to figure out how to continue on. really interesting themes that followed the pay off from infinity wars ending. And then the time heist part. Tho the heist part should've been much more stretched out. With only small parts of thanos within that, and not having him be the big bad again. But just a side character that gets in the way a little bit.<br/><br/>And the setting up for 'new avengers' to replace the beloved actors and characters we have come to associate with these films.. they do not get me at all excited for the next phase in marvel films. Falcon, Valkyrie, blackpanther, cap marvel? I just dont care about them at all. And their actors lack any charisma or depth.<br/><br/>To me this feels like a closing of marvel films that I'll really enjoy for my pop corn fix. I've given infinity war a 10/10 and some of the stand alone films 8's and 9's. But I have a sinking feeling this will not be happening in the future except the guardians of the galaxy films.<br/><br/>It seems i maybe in the minority for my feelings towards this film, but im not sugar coating my opinion like it seems a few people are doing due to nostalgia. Its good, but not great. Had the opportunity to be better, maybe? And the setting up of new characters to come possible reflects on my score to... Because i just don't give two cents about any of them</div>, <div class=\"text show-more__control\">Rating: 8.6<br/><br/>Not as good as Infinity war pacing-wise, but is a satisfying ending to the saga. High production quality, and a great soundtrack like its predecessor. The final fight did feel a little cliché (two armies brainlessly charging at each other for a typical smackdown). Not much to write about, it made every marvel movie before it worth the ticket.</div>, <div class=\"text show-more__control\">So it all ends. I have loved most of the MCU, some have been too predictable but I awaited after IW to see how it would all pan out. Firstly some of my favourite characters are a joke. Please don't dumb Thor or Banner/Hulk down, not necessary. Great starting scene, then slow dramatic next 1.5 hours. It builds to the time travel reversing all section with too many plot holes. We've all seen other time reversing movies who have done it so much better. The last hour is spectacular, great to see all the gang back but it feels rushed. Emotion runs high and defo not a kids film in my eyes. Cap is great Stark is amazing but everyone else feels like there just there. What I loved was the beauty of the final scenes, wonderful score and saying goodbye to old friends. Overall wanted more, but even far from perfect is still pretty good.</div>, <div class=\"text show-more__control\">This film is an emotional rollercoaster with some of the coolest superhero plot lines ever drawn up. It's straight up the most epic Marvel film that will probably ever be created. I don't see how Marvel could ever top this, but getting to see these characters all together at least one last time was a reward all on its own.</div>, <div class=\"text show-more__control\">After watching Infinity war, I was looking forward to much more this time, still a perfect ending.</div>, <div class=\"text show-more__control\">After Avengers Infinity War, we waited for the Avengers Endgame. We wondered how the story would go on, how our heroes would turn back, what would be the end of Thanos. Many theories related to this have been put forward. Avengers Endgame was undoubtedly the most anticipated film of recent years. Normally, the higher the expectation, the higher the probability of disappointment. But this is not the case for Endgame. Whatever you're expecting, you find much more in the film. This means that the biggest concern about the film has disappeared.<br/><br/>On the other hand, another comparison comes up. Is Endgame more successful than Infinity War? We can comfortably say it Avengers Infinity War is just the beginning of the story. Endgame was the finale of the story. So we shouldn't think of these two films as two separate stories. There is only one story divided into two parts.<br/><br/>Avengers Endgame is, above all, a great homage to the ten-year history of the Marvel Cinematic Universe. The story highlights the original Avengers team. Iron Man, Captain America, Thor, Hulk, Black Widow and Hawkeye are at the center of events. No character comes in front of them. Of course there are many characters that play an important role in the story outside the original Avengers team. Everyone's concern was that Captain Marvel, who was included in the Marvel world, overshadowed other heroes. We can say that this certainly did not happen. What is important in this struggle is not how strong you are, but how good you are. This comes to the fore in all areas. It gives good message about being a hero and a family.<br/><br/>Of course, Avengers Endgame has some critical aspects. For example, is the three-hour period necessary in terms of the story? It can be discussed. The head of the story moves much slower than the rest. It also drags the heroes into an emotional predicament. Then the tempo is rising and the heavy scenes we are watching are getting more meaningful. The last 45 minutes of the movie is fully action packed. But the last 45 minutes goes so fast that you don't even realize it. Action and battle scenes are really successful. There is not even a slight distress about visual effects. There are also slight logic errors in the film, but in general the story is so successful that these details become meaningless and insignificant after a certain point.<br/><br/>Lastly, Avengers Endgame doesn't have a movie end scene. Because after the film's final, there is no need for another scene. The Marvel legend Stan Lee appears with a small stage. But this is the last surprise scene in the Marvel Cinematic Universe. Moreover, there is no clue about Marvel's future. This makes us wonder more about Spider-Man: Far from Home. 10/10</div>, <div class=\"text show-more__control\">The film has too many references to previous Marvel films, and is not friendly to those who are not Marvel fans. General audiences may easily get confused: what is this and why is that? The story is not original either. We have seen too many time-travel films, such as Back to the Future and Days of Future Past. This film does not offer anything new. Besides, the last thirty minutes are kind of redundant, and the overall running time is unnecessarily long.</div>, <div class=\"text show-more__control\">If you're going to watch this movie, avoid any spoilers, even spoiler free reviews.\n",
            "Which is why I'm not going to say anything about the movie. Not even my opinion. All I'm going to say is:<br/><br/>The crowd applauded 3 times during the movie, and stood up to clap their hands after. This I have never witnessed in a Dutch cinema. Dutch crowds aren't usually passionate about this. I checked the row where I was sitting, and people were crying. After the movie, I was seeing people with smudged mascara. That's all I have to say about the movie.</div>, <div class=\"text show-more__control\">\" ...the problem is, when you mess with time, time kinda tends to MESS BACK.. \"\n",
            "~TONY STARK, A.K.A 'IRONMAN', MARVEL'S \" AVENGER'S : ENDGAME \" .<br/><br/>___________________________________________________<br/><br/>\" SO WHO CARES ?<br/><br/>...if this \"1ST-BIT\" HERE sounds a bit CLICHE ? ? ? The fact is that this film Is, ( At The VERY LEAST ) -&gt;-\n",
            "( 1. )A LABOUR OF L💎VE .\n",
            "( 2. )A TRUE, UNEQUIVOCAL WORK OF \" HE💎RT \" .\n",
            "( 3. )A BEAUTIFUL &amp; ENDURING M💎STERPIECE .<br/><br/>I ABSOLUTELY ADORE pictures that are \"THOROUGHLY\" UNPREDICTABLE, &amp; this Passionately-exquisite Creation FAR, FAR outweighed my Every-Hope in that particular respect, and ...Indeed..... so MANY, MANY, MORE .<br/><br/>A WELL MEANING WORD OF ADVICE, THOUGH -&gt;- \"THIS IS ( NOT ⭐ -❕) A FAIRY TALE\". BE ABSOLUTELY SURE to chuck your 'innocently-created FANTASIES' of what to expect... RIGHT AT THE CINEMA ENTRANCE, ( Or chances are, you will Almost-CERTAINLY, be DISAPPOINTED ) .<br/><br/>ALSO, I \"ESPECIALLY\" urge you to Spare more than just a \"Passing-thought\" for CHRIS HEMSWORTH'S \"Profoundly-comedic\", &amp; YES... O F . C O UR S E -&gt;- ROBERT DOWNEY JUNIOR'S, \"Utterly-Stellar &amp; ENTIRELY OSCAR WORTHY ⭐❕ ( -AS IN \"BEST ACTOR, &amp; NO LESS- )\".. \"DRAMATIC\"... PERFORMANCES. ( The Generally-SUPERB Collective-cast performance NOTWITHSTANDING )...<br/><br/>Come to think of it, ( SADLY ), ANTAGONISTS' performances these days Often tend to get OVERLOOKED and/or TAKEN FOR-GRANTED; &amp; JOSH BROLIN'S \"INEVITABLE\"-THANOS -&gt;- MAY -&gt;- most decidedly be NO EXCEPTION. I'm ( ALREADY ;) ) ROOTING FOR him to be Nominated for \"BEST SUPPORTING ACTOR\" for the 2020 OSCAR AWARDS .<br/><br/>AND IN CLOSING : OH YES.. Consider Yourself Warned... this film is SO FUNNY..... you may just -&gt;- \"DIE LAUGHING\". ( Consider yourself FULLY-WARNED, N O W ) .<br/><br/>A HUMONGOUS, WHOLESALE 25 ( 😉 ❤ ) MARKS OUT OF 10 , HANDS DOWN ⭐ ❕❕\" .</div>, <div class=\"text show-more__control\">Rating 10/10\n",
            "Absolute perfection end game !! Good acting performance to all the characters. Great cgi's. Truly epic &amp; perfect ending to a long journey of marvel movie. Go see it you wont regret it !! Perfection Marvel Endgame !!</div>, <div class=\"text show-more__control\">Unfortunately clumsy. I enjoyed all previous Avengers, and a few scenes in this are very cool and funny, but this one lowers the bar overall. For me the story petered out instead of maintained momentum from previous movies. The dialogue struggles to be interesting, boring sequences at time.<br/><br/>Clumsy Avengers fit awkwardly together for group photo, like bad high school reunion. That said, I enjoy Avengers like everyone else for years, just not this one so much.<br/><br/>The super-power woman, Capt Marvel, her powers are overdone. Too simplistic, too much power. No reason for her to lose any fight.<br/><br/>Was a big collective of all heroes even necessary? Sort of not really.<br/><br/>Some scenes linger way too long, drawing out already thin content. And where was Dr Strange? He hardly had anything to say, and very brief appearance, yet he was in possession of crucial aspect of story.</div>, <div class=\"text show-more__control\">3 hours out of my life I will never get back.\n",
            "not worth the hype. you think the soap opera is done by the ultimate battle.\n",
            "think again. let us milk it and release another spider man. geez a lou.</div>, <div class=\"text show-more__control\">I don't really know what all the hype is about. Bored watching this as it's the same again just rehashed. Glad to see the back of the Avengers to be honest.</div>, <div class=\"text show-more__control\">Only a month or so back I was talking to a friend about how much I hate it when serious movies use time travel to get their characters out of problems. I have no problem with movies like 'Back to the Future' or 'Hot Tub Time Machine' that are both comedy based and use the time machine as a plot for the movie as opposed to a solution for characters problems. When a serious movie uses it though it as lazy as writing as dream sequence in my opinion.<br/><br/>At the end of the day though that just underlines the problem with these movies. The heroes are far too powerful. Whatever power they need they simply possess conveniently. Heck, 'Dr Strange' can even see into the future to know exactly what to do to make sure everything turns out alright. If that isn't the stupidest thing I've ever seen in a movie I don't know what is.<br/><br/>I felt like the movie went very much as expected as well. Sure some characters die, however they were pretty much telegraphed to do so long before the movie came out. There also seemed to be a lack of conflict as key moments. A lot of things went far too smoothly for my liking in terms of the plan. Finally, the ending with 'Iron Man' simply pulling the glove off 'Thanos' - what the hell was that? Was that supposed to be clever writing? 'Thanos' just standing there for an eternity doing nothing waiting for someone to stop him?<br/><br/>A lot of the jokes failed to land too. This was a surprisingly unfunny movie. In a 3 hour movie I got maybe 3 light chuckles out of the film. Every joke just felt so forced and some of the characters who don't have a comedy background delivered them very poorly. 'Avengers: Endgame' is three hours of my life I would like back.</div>, <div class=\"text show-more__control\">I have watched the first part many, many times. Every minute of it was accounted for with importance to the plot - not wasted on snowflake emotions.<br/><br/>This second half has an excellent plot, but oh, my - how it dragged on with talk and tears!<br/><br/>I also didn't like Pepper suddenly being outfitted as a fighter?! lol! And, considering the future hero roles revealed in this one, can we eventually expect a white Black Panther, too?! Don't get me wrong - I don't want to see a white Black Panther.<br/><br/>Several other points of disappointment, too.<br/><br/>Bummer.</div>, <div class=\"text show-more__control\">They've really scrapped the bottom with this one! Oh so Bad!</div>, <div class=\"text show-more__control\">Don't get me wrong, the movie was great, but would I watch it a second time? Probably not - until the DVD comes out.<br/><br/>I've seen infinity war at least 5 times, and it's one of my favorite films.<br/><br/>That being said, i will compare the two movies for sure, and I just disliked the pacing, it was all over the place. Some Characters felt off, and some got little to no screen time, where others had too much.<br/><br/>It's just too many characters for one movie, even though infinity war did it much better, with just as many characters. I just can't put my finger on it.<br/><br/>The fighting scenes were alright, the first half lacked action, but the second half delivered some good solid scenes, nothing groundbreaking, but fun to watch. They can't reinvent the wheel, neither do they want to. They stick to what works, and that's alright.<br/><br/>All in all, the movie was a close 8/10, the fanboys who give it a 10 are just blind to accept the mistakes the movie made. It's not a perfect film, even an 8 is really generous in my opinion. The Movie works with nostalgia and gives fans of the MCU the things they wanted, more or less.<br/><br/>Still thinking Thor 3 was the best MCU movie. Sue me.</div>, <div class=\"text show-more__control\">Right in the beginning, you know how the movie is going to end...the good guys are going to win. How anti-climactic that was.. The stage is not set right (half of all humanity is gone, but the enormity of that is not explored...)...when you have Thanos give his explanation as to why he did what he did, I found myself thinking - well, he actually has a point.\n",
            "In the meanwhile, every single superhero is given time to fight, say some cute things, some say a few smart things, a few even manage to say profoundly philosophical statements...\n",
            "The quantum physics explanations used to explain how things are done, are plainly non sense... ..they just made stuff up as they went on.\n",
            "Alls well that ends well. Except we spent 3 hours to find that out.</div>, <div class=\"text show-more__control\">THE STORY IS VERY WELL BUILT\n",
            "THE CHEMISTRY OF THE CHARACTERS IS GREAT<br/><br/>CGI IS GOOD<br/><br/>THE PERFORMANCE IS GOOD<br/><br/>IT WAS A GREAT LAST CHAPTER AFTER THIS FILM<br/><br/>uDIDN'T WATCH ANYTHING ABOUT MARVEL BECAUSE NOW IT JUST MAKES GARBAGE.</div>, <div class=\"text show-more__control\">I feel like I'm wasting my time writing down my thoughts about Avengers: Endgame, because nothing I (or any critic) could say about it would ever dissuade a prospective viewer from seeing it. But after having had the chance to watch it at a preview screening, I can't help but say a few spoiler-free words.<br/><br/>I'm not your average fanboy -- most long-running franchises have bored me at this point, and I couldn't care less about the newest Star Wars episode or whether there will be another film set in the Harry Potter universe.<br/><br/>But Marvel films have been consistently watchable, with many solid entries and a few great ones (Winter Soldier, Ragnarok, the first Guardians of the Galaxy among others). And after Infinity War ended with a cliffhanger, I was looking forward to the conclusion. Boy, was I not disappointed!<br/><br/>Very few highly-anticipated movies live up to the hype, but Avengers: Endgame is one of them. It's the perfect follow up to Infinity War, and the absolute zenith of the Marvel franchise. It's hard to see how they'll be able to top this one.<br/><br/>It's surprisingly inventive (even when you know where the story is headed, the plot takes a few tangents getting there), emotionally engaging (a few people were crying in the theater) and surprisingly funny (this is probably the most I've laughed in a Marvel film since Thor: Ragnarok). Visually speaking, it's a true spectacle (topping Infinity War in the 'epic battle' stakes), and even though it's three hours long, it doesn't feel bloated. The only times I glanced at my watch was because I was hoping there would be more time before the end.<br/><br/>Yes, it's a superhero movie, but an immensely entertaining one (especially for fans who have seen all the pictures that came before it: there are tons of references and inside jokes to reward the faithful).<br/><br/>If \"Return of the King\" managed to win Best picture at the 2003 Oscars Avengers: Endgame deserves at least a nomination. It's as good (and in many ways better) a conclusion to a fantasy/genre series as the Peter Jackson film,.<br/><br/>Go see it.</div>, <div class=\"text show-more__control\">Avengers: Endgame is above all the best Marvel superhero movie to date. This is also the best and epic conclusion to the 21 movies in the first 10 years of the MCU. This is the epic culmination. The best storytelling ever told.</div>, <div class=\"text show-more__control\">The alternate title for this film: \"How to Cram a 90 Minute Movie Into 3 Hours.\"</div>, <div class=\"text show-more__control\">So here we have it, AVENGERS: ENDGAME, the expansive sequel to not only AVENGERS: INFINITY WAR but also to the whole last 13 years or so of Marvel cinema. It's a film that had big boots to fill but the good news is that it's a complete success and every bit as enjoyable as its predecessor. At three hours I wasn't sure about the pacing, but even during the slower first half the viewer's interest remains piqued thanks to the witty dialogue and huge cast of well-established characters doing their thing.<br/><br/>The time travel plot might seem a cop out to some, but I really enjoyed the way it gives characters a chance to revisit earlier productions (and even allow the likes of Robert Redford to show up in clever cameos). The climactic action is well worth the wait and bests the battles in LORD OF THE RINGS: RETURN OF THE KING in terms of pure CGI spectacle; it only took them 16 years to get it right. Great fun, anyway, and one for the ages.</div>, <div class=\"text show-more__control\">I had to take several breaks, walk the dogs, play videogames and clean the house, while watching this absolutely ridiculous and nonsensical pile of rubbish and now afterwards, I'm asking myself why I put myself through such suffering. To what end. I guess I was hoping there would be one scene or at least one line that put a smile on my face or made me feel anything at all except extreme pain and boredom. There wasn't any of that unfortunately, so I just wasted three hours of my life I could have spent on basically anything else and it would have been more worth while. I can't decide which one was more painful to watch, this or Aquaman? Both equally and utterly disappointing I guess.</div>, <div class=\"text show-more__control\">I've just come from watching Endgame and I must say that I am disappointed.<br/><br/>I loved Civil War and I loved Infinity War. When I came out of those films, I knew immediately that they were great and that I wanted to see them again. With Endgame, I'm not sure.<br/><br/>I respect how they were prepared to show the consequences of what Thanos had done but by killing him off so quickly and then them having to do their own stone quest (hadn't we already seen Thanos doing this in IW) it felt slow and lazy. Worse still was that it felt very self-indulgent and attempting to be clever for clever sake.<br/><br/>Like how Back to the Future II considered itself clever for showing the events of the first film but with Marty flitting around behind the scenes to ensure that it all still happened. I know it's meant to be fan pleasing but it really felt like a gimmick and lacking in confidence. Almost like it was saying 'Hey guys, this will make you smile'. If you want to make me smile, concentrate on maintaining the quality of your product rather than directly trying to make me like you.<br/><br/>But the trouble with messing around with timelines and bouncing around is that it makes the audience start asking questions during the film. The linearity that we'd seen in IW and the imminent fast approaching threat is replaced in Endgame with a lack of direction and characters that are earlier versions of who the audience have seen.<br/><br/>In IW we were shown Thanos. He was written to be sympathetic or at least a character that we the audience could understand. He believed in what he was doing and this made him more rounded. But in Endgame, that version is dispatched quickly and we are supplied with a 2014 (?) Thanos who isn't the character we know but is just a token bad guy.<br/><br/>This Thanos hasn't made the sacrifice at Vormire, he isn't the guy that would empathise with Scarlet Witch for what she did to Vision. He has suddenly become a token cut out evil bad guy that needs to be defeated. Hell, the writers even manage to forget their own time loop by saying that this Thanos has learnt that he doesn't want to wipe out 50% anymore because they are too ungrateful. How does he know this when the 2014 Thanos has only just literally arrived in the post wipeout Universe? How has he had time to form the opinion that his previous quest for a 50% cull isn't worthy?<br/><br/>Is this a case of the writers being terrified that they had created a bad guy that people related to or was it a fear that they'd written themselves into a hole? Why go to the effort of creating that character in IW to suddenly kill him off at the beginning of Endgame just for a dramatic punch?<br/><br/>For me, the time travelling and stone gathering wasted time to create unimportant scenes that fundamentally undermine the films that came before.\n",
            "In my opinion it would have been better if they had shown the remaining Avengers preparing to do some Avenging and maintained the single minded linearity of IW of battling towards and reaching a post click Thanos and somehow reversing his work.<br/><br/>The more I think of the film, the more plot holes and frustrations manifest themselves. Thor's drinking and man child antics might have been initially funny but one begins to realise that they are deliberately doing this to clip his wings. Likewise with Hulk, his primordial desire to smash and destroy has been removed to think it out and he has become an embarrassing shadow of his former self.<br/><br/>The thing that is meant to be amazing about the MCU is the world building but inconsistencies have been appearing and there are so many in Endgame that it makes you question whether these two films are written by the same people.<br/><br/>In IW, Thanos is a dangerous and credible threat because he has the infinity stones. He takes on half of the Avengers, Strange and some of the Guardians on Titan and smashes them and then takes on the other half on Wakanda and smashes them. Yet it is Stormbreaker (whose creation we have seen been hard earned by a motivated Thor) that has the power to take down Thanos even when he has a full complement of Infinity Stones.<br/><br/>Yet we roll forward to Endgame and we have literally all the good guys together in one place, Cap with his shield, Tony fully powered up, Scarlet Witch p*ssed and vengeful, Capt Marvel who can seemingly do anything and Thor wielding both Mjolnir AND Stormbreaker and Thanos NOT in possession of the gauntlet, yet they can't defeat him.<br/><br/>It's like the fights in IW were so amazing because the good guys were taking on an unbeatable foe yet here he is now seemingly defeatable by the 'rules' that the writers established . A good example of this would be in IW when Cap is the last man standing before Scarlet Witch and he grabs the gauntlet. You see the look of admiration/respect on Thanos' face that Cap is holding open the gauntlet before he punches him to the ground yet now that scene seems pointless.<br/><br/>The writers for Endgame seem to have been driven to undo everything they did in IW. All the tension, all the sacrifice, all the development of Thanos discarded for well, I don't know what. It makes no sense.<br/><br/>IW had two incredible scenes that used to choke me up. When Cap appears in the train station, the Avengers theme kicks in and Falcon and Widow take down the henchman in a wonderfully choreographed scene. In just that one scene it shows them coming to the rescue, it shows how intuitively they work together and it showcases their heroism.<br/><br/>Likewise when Thor creates Stormbreaker and makes his entrance on Wakanda, I felt it for the journey that Thor has been on. He's had to contend with loss and defeat and humiliation and this is his redemption. Here is a character that has earned his game changing weapon and when he arrives and demands to face a character that everyone else is running away from, I want to punch the air.<br/><br/>But in Endgame, that feels like it has to be corrupted. We can't have Thor being dominant, let's break him and make him a fool. We can't have Thanos being complicated and relatable, let's make him a cut out bad guy. We can't have Hulk being rage fuelled and smashing stuff up, let's make him more sensitive and talking stuff out. We can't have Cap being stoic and heroic, let's have him ridiculing one of his own iconic lines in a silly gimmicky fight with himself and commenting on his butt. We can't have a powerful female character that we're invested in look sexy AND be able to take down Thanos, let's give Scarlet Witch a small part but focus our attention on a female character that hasn't earnt our admiration or desire for revenge.<br/><br/>To be honest, the 'rules of engagement' had been set so well in IW that when in Endgame Thanos massed his ranks against the Avengers and then ALL of the good guys showed up, I was almost expecting the camera to pull away and not show the fight given that it was so obviously going to be an easy win for the good guys.<br/><br/>And as for the big fight scene, it did reek of what DC always manage to do which is just throw everything into an end battle and bludgeon you with CGI and pyrotechnics so that you aren't really sure what is going on.<br/><br/>In the many fights in IW, you knew what was going on, you recognised the combatants, you understood the stakes and you identified the geography of the scene. In Endgame we got one big massive fight where everything was thrown in the pot and it was just assumed by the directors that we would be happy with all the flashing lights.\n",
            "And I have to say that considering that Steve and Tony fell out so hard, and that Tony's criticism of Steve was so unfair, that I really had hoped for more than just a handshake, a muttering of 'no worries' and 'here's your shield'. These guys wrote and directed Civil War, they created the line 'we fell out hard' and hence I had hoped for something deeper and more touching than a handshake.<br/><br/>Steve wrote Tony a letter telling him that when he needed him he'd be there but once again the Iron Man bias had to creep in and once again Tony was the victim and the ultimate hero.<br/><br/>But I think my biggest problem is how the convenient time travelling undermines everything. When a franchise starts retrofitting stuff (like Fury's eye being from a space cat), it's then hard to consider the previous stories.<br/><br/>Having 2014 Gamorra means that all the evolution that we saw her go through in GOTG 1 and 2 is wasted. Having Cap marry Peggy means the pain of his sacrifice, him seeing her in Winter Soldier when she is suffering from Alzheimer's, hell even his blossoming relationship with Sharon Carter is kinda irrelevant. Having seen Thor at last step away from his two weaker origin films into the entertainment of Ragnarok and the redemption in IW leaves us now with a bumbling buffoon.<br/><br/>We know that what makes Captain America what he is, is the serum that makes him a super soldier. That he was transformed from a weakling to a superhuman. Sam Wilson is not a super soldier and he didn't take the serum. He is Falcon. Now maybe in the comics he becomes Cap but Bucky is a super soldier. Is the new Cap going to foil an evil plot and be defeated with a tazer or a knife to the chest? Consider the beatings that Steve has taken and the physical strength that he has shown we can recognise that Sam Wilson does not have that.<br/><br/>I'm sorry to say but the Russo's have dropped the ball. Themselves and their writers have succumbed to their success and their desire to be engineers of political correctness and social change. I thought Endgame would be the high soaring end to this 10 year run of impressive movie entertainment but in the end the writers got carried away, the directors over reached and the studio sacrificed the integrity of their product for a chance to 'educate' us all. A real shame and a wasted opportunity.<br/><br/>Infinity War is clearly the highlight of the last 10 years but even now I fear that repeated viewings will render it pointless considering how the makers decided to fundamentally damage it.</div>]\n"
          ]
        }
      ],
      "source": [
        "# print(reviews)"
      ]
    },
    {
      "cell_type": "code",
      "execution_count": null,
      "metadata": {
        "id": "UmhD7zkrCFKF"
      },
      "outputs": [],
      "source": [
        "# # Step 6: Extract the reviews and sentiment labels\n",
        "#     for review in reviews:\n",
        "#         review_text = review.text\n",
        "#         sentiment = 'positive' if int(review.find_previous('span').text) > 5 else 'negative'\n",
        "#         reviews_list.append((review_text, sentiment))"
      ]
    },
    {
      "cell_type": "code",
      "execution_count": null,
      "metadata": {
        "id": "_6wR80THCFKG"
      },
      "outputs": [],
      "source": [
        "# import pandas as pd\n",
        "\n",
        "# reviews_df = pd.DataFrame(reviews_list, columns=['Review', 'Sentiment'])\n",
        "# reviews_df.to_csv('reviews.csv', index=False)"
      ]
    },
    {
      "cell_type": "code",
      "execution_count": null,
      "metadata": {
        "id": "R7kyhXiUCFKH",
        "outputId": "e7b680b1-9657-4932-feb8-e12dd4078467"
      },
      "outputs": [
        {
          "data": {
            "text/html": [
              "<div>\n",
              "<style scoped>\n",
              "    .dataframe tbody tr th:only-of-type {\n",
              "        vertical-align: middle;\n",
              "    }\n",
              "\n",
              "    .dataframe tbody tr th {\n",
              "        vertical-align: top;\n",
              "    }\n",
              "\n",
              "    .dataframe thead th {\n",
              "        text-align: right;\n",
              "    }\n",
              "</style>\n",
              "<table border=\"1\" class=\"dataframe\">\n",
              "  <thead>\n",
              "    <tr style=\"text-align: right;\">\n",
              "      <th></th>\n",
              "      <th>Review</th>\n",
              "      <th>Sentiment</th>\n",
              "    </tr>\n",
              "  </thead>\n",
              "  <tbody>\n",
              "  </tbody>\n",
              "</table>\n",
              "</div>"
            ],
            "text/plain": [
              "Empty DataFrame\n",
              "Columns: [Review, Sentiment]\n",
              "Index: []"
            ]
          },
          "execution_count": 44,
          "metadata": {},
          "output_type": "execute_result"
        }
      ],
      "source": [
        "# reviews_df.head(60)"
      ]
    },
    {
      "cell_type": "code",
      "execution_count": null,
      "metadata": {
        "id": "mAnEWZ6OCFKI",
        "outputId": "0af2199e-4709-42b0-ecd2-aee41e58c5d7"
      },
      "outputs": [
        {
          "name": "stdout",
          "output_type": "stream",
          "text": [
            "75\n"
          ]
        }
      ],
      "source": [
        "########################################"
      ]
    },
    {
      "cell_type": "code",
      "execution_count": null,
      "metadata": {
        "id": "MFBj2-4FCFKJ"
      },
      "outputs": [],
      "source": [
        "import time\n",
        "import pandas as pd\n",
        "from selenium import webdriver\n",
        "from selenium.webdriver.common.by import By\n",
        "from selenium.webdriver.support.ui import WebDriverWait\n",
        "from selenium.webdriver.support import expected_conditions as EC\n",
        "from bs4 import BeautifulSoup\n",
        "\n",
        "def scrape_reviews(url):\n",
        "    # Initialize a webdriver for Chrome\n",
        "    driver = webdriver.Chrome()\n",
        "    driver.get(url)\n",
        "\n",
        "    # Wait for the \"Load More\" button to appear and click it repeatedly until all reviews have loaded\n",
        "    while True:\n",
        "        try:\n",
        "            load_more_button = WebDriverWait(driver, 10).until(EC.presence_of_element_located((By.ID, 'load-more-trigger')))\n",
        "            load_more_button.click()\n",
        "            time.sleep(5)  # Wait for the new reviews to load\n",
        "        except:\n",
        "            break\n",
        "\n",
        "    # Scrape all reviews using BeautifulSoup\n",
        "    soup = BeautifulSoup(driver.page_source, 'html.parser')\n",
        "    #Get all review containers in website\n",
        "    reviews = soup.find_all('div', class_='review-container')\n",
        "    #Reviews list to keep 1 column of review text and 1 column of sentiment\n",
        "    reviews_list = []\n",
        "    for review in reviews:\n",
        "        review_text = review.find('div', class_='text').text.strip()\n",
        "        rating_element = review.find('span', class_='rating-other-user-rating')\n",
        "        if rating_element is not None:\n",
        "            rating = rating_element.find('span').text.strip()\n",
        "            if rating:\n",
        "                rating = int(rating.split('/')[0])\n",
        "        else:\n",
        "            rating = None\n",
        "        sentiment = 'positive' if rating and rating > 5 else 'negative' if rating and rating <= 5 else None\n",
        "        reviews_list.append((review_text, sentiment))\n",
        "\n",
        "    # Close the webdriver and return the list of reviews\n",
        "    driver.quit()\n",
        "    return reviews_list"
      ]
    },
    {
      "cell_type": "code",
      "execution_count": null,
      "metadata": {
        "id": "w4rNtG8NCFKK"
      },
      "outputs": [],
      "source": [
        "from selenium import webdriver\n",
        "from selenium.webdriver.common.by import By\n",
        "from selenium.webdriver.support.ui import WebDriverWait\n",
        "from selenium.webdriver.support import expected_conditions as EC\n",
        "from bs4 import BeautifulSoup\n",
        "import requests\n",
        "import pandas as pd\n",
        "movie_urls = [\n",
        "    #'https://www.imdb.com/title/tt0468569/reviews',  # The Dark Knight (2008)\n",
        "    #'https://www.imdb.com/title/tt1375666/reviews',  # Inception (2010)\n",
        "    #'https://www.imdb.com/title/tt4154796/reviews',  # Avengers: Endgame (2019)\n",
        "#     'https://www.imdb.com/title/tt0137523/reviews',   # Fight Club (1999)\n",
        "#     'https://www.imdb.com/title/tt0816692/reviews',   # Interstellar (2014)\n",
        "#     'https://www.imdb.com/title/tt0903747/reviews',   # Breaking Bad (2008 - 2013)\n",
        "#     'https://www.imdb.com/title/tt0944947/reviews',   # Game Of Thrones (2011–2019)\n",
        "#     'https://www.imdb.com/title/tt4158110/reviews'    # Mr. Robot (2015–2019)\n",
        "    'https://www.imdb.com/title/tt10872600/reviews'     # Spiderman No Way Home (2021)\n",
        "]\n",
        "\n",
        "reviews_list = []\n",
        "\n",
        "for url in movie_urls:\n",
        "    reviews_list += scrape_reviews(url)"
      ]
    },
    {
      "cell_type": "code",
      "execution_count": null,
      "metadata": {
        "id": "acvlLH-kCFKL",
        "outputId": "af23fe58-dbc8-4dbe-eea3-9be4fbd3d607"
      },
      "outputs": [
        {
          "name": "stdout",
          "output_type": "stream",
          "text": [
            "Collecting urllib3\n",
            "  Downloading urllib3-2.0.2-py3-none-any.whl (123 kB)\n",
            "Installing collected packages: urllib3\n",
            "  Attempting uninstall: urllib3\n",
            "    Found existing installation: urllib3 1.26.15\n",
            "    Uninstalling urllib3-1.26.15:\n",
            "      Successfully uninstalled urllib3-1.26.15\n",
            "Successfully installed urllib3-2.0.2\n"
          ]
        },
        {
          "name": "stderr",
          "output_type": "stream",
          "text": [
            "ERROR: After October 2020 you may experience errors when installing or updating packages. This is because pip will change the way that it resolves dependency conflicts.\n",
            "\n",
            "We recommend you use --use-feature=2020-resolver to test your packages with the new resolver before it becomes the default.\n",
            "\n",
            "conda 22.9.0 requires ruamel_yaml_conda>=0.11.14, which is not installed.\n",
            "selenium 4.8.3 requires urllib3[socks]~=1.26, but you'll have urllib3 2.0.2 which is incompatible.\n",
            "requests 2.24.0 requires urllib3!=1.25.0,!=1.25.1,<1.26,>=1.21.1, but you'll have urllib3 2.0.2 which is incompatible.\n"
          ]
        },
        {
          "name": "stdout",
          "output_type": "stream",
          "text": [
            "Collecting chardet\n",
            "  Downloading chardet-5.1.0-py3-none-any.whl (199 kB)\n",
            "Installing collected packages: chardet\n",
            "  Attempting uninstall: chardet\n",
            "    Found existing installation: chardet 3.0.4\n",
            "    Uninstalling chardet-3.0.4:\n",
            "      Successfully uninstalled chardet-3.0.4\n",
            "Successfully installed chardet-5.1.0\n"
          ]
        },
        {
          "name": "stderr",
          "output_type": "stream",
          "text": [
            "ERROR: After October 2020 you may experience errors when installing or updating packages. This is because pip will change the way that it resolves dependency conflicts.\n",
            "\n",
            "We recommend you use --use-feature=2020-resolver to test your packages with the new resolver before it becomes the default.\n",
            "\n",
            "spyder 4.1.5 requires pyqt5<5.13; python_version >= \"3\", which is not installed.\n",
            "spyder 4.1.5 requires pyqtwebengine<5.13; python_version >= \"3\", which is not installed.\n",
            "conda 22.9.0 requires ruamel_yaml_conda>=0.11.14, which is not installed.\n",
            "spyder 4.1.5 requires jedi==0.17.1, but you'll have jedi 0.18.1 which is incompatible.\n",
            "spyder 4.1.5 requires parso==0.7.0, but you'll have parso 0.8.3 which is incompatible.\n",
            "requests 2.24.0 requires chardet<4,>=3.0.2, but you'll have chardet 5.1.0 which is incompatible.\n",
            "requests 2.24.0 requires urllib3!=1.25.0,!=1.25.1,<1.26,>=1.21.1, but you'll have urllib3 2.0.2 which is incompatible.\n"
          ]
        }
      ],
      "source": [
        "!pip install --upgrade urllib3\n",
        "!pip install --upgrade chardet\n"
      ]
    },
    {
      "cell_type": "code",
      "execution_count": null,
      "metadata": {
        "id": "bLnaDGmQCFKM"
      },
      "outputs": [],
      "source": [
        "reviews_df = pd.DataFrame(reviews_list, columns=['review', 'sentiment'])\n",
        "reviews_df = reviews_df.dropna()  # Remove rows with missing sentiment values\n",
        "reviews_df.to_csv('reviews2.csv', index=False)"
      ]
    },
    {
      "cell_type": "code",
      "execution_count": null,
      "metadata": {
        "id": "wq_rALp4CFKM",
        "outputId": "42b85aff-b36f-4549-d975-18f0293f430c"
      },
      "outputs": [
        {
          "ename": "NameError",
          "evalue": "name 'reviews_list' is not defined",
          "output_type": "error",
          "traceback": [
            "\u001b[1;31m---------------------------------------------------------------------------\u001b[0m",
            "\u001b[1;31mNameError\u001b[0m                                 Traceback (most recent call last)",
            "Cell \u001b[1;32mIn [2], line 4\u001b[0m\n\u001b[0;32m      2\u001b[0m \u001b[38;5;28;01mimport\u001b[39;00m \u001b[38;5;21;01mstring\u001b[39;00m\n\u001b[0;32m      3\u001b[0m \u001b[38;5;28;01mimport\u001b[39;00m \u001b[38;5;21;01mre\u001b[39;00m\n\u001b[1;32m----> 4\u001b[0m text_list \u001b[38;5;241m=\u001b[39m \u001b[43mreviews_list\u001b[49m\n\u001b[0;32m      5\u001b[0m \u001b[38;5;28;01mfor\u001b[39;00m i \u001b[38;5;129;01min\u001b[39;00m \u001b[38;5;28mrange\u001b[39m(\u001b[38;5;28mlen\u001b[39m(text_list)):\n\u001b[0;32m      6\u001b[0m     \u001b[38;5;66;03m# Remove punctuation\u001b[39;00m\n\u001b[0;32m      7\u001b[0m     text_list[i] \u001b[38;5;241m=\u001b[39m text_list[i]\u001b[38;5;241m.\u001b[39mtranslate(\u001b[38;5;28mstr\u001b[39m\u001b[38;5;241m.\u001b[39mmaketrans(\u001b[38;5;124m'\u001b[39m\u001b[38;5;124m'\u001b[39m, \u001b[38;5;124m'\u001b[39m\u001b[38;5;124m'\u001b[39m, string\u001b[38;5;241m.\u001b[39mpunctuation))\n",
            "\u001b[1;31mNameError\u001b[0m: name 'reviews_list' is not defined"
          ]
        }
      ],
      "source": [
        "#This will be the processed IMDBDataset\n",
        "# import string\n",
        "# import re\n",
        "# text_list = reviews_list\n",
        "# for i in range(len(text_list)):\n",
        "#     # Remove punctuation\n",
        "#     text_list[i] = text_list[i].translate(str.maketrans('', '', string.punctuation))\n",
        "#     # Remove special characters\n",
        "#     text_list[i] = re.sub(r'[^a-zA-Z0-9\\s]', '', text_list[i])\n",
        "#     # Convert to lowercase\n",
        "#     text_list[i] = text_list[i].lower()\n",
        "# processed_reviews_df = pd.DataFrame(text_list, columns=['Review', 'Sentiment'])\n",
        "# processed_reviews_df.to_csv('processedreviews.csv', index=False)"
      ]
    },
    {
      "cell_type": "code",
      "execution_count": null,
      "metadata": {
        "id": "P9ITDRRVCFKN",
        "outputId": "ed43ad06-f10d-4239-9516-a0fc2aaf0502"
      },
      "outputs": [
        {
          "ename": "NameError",
          "evalue": "name 'reviews_df' is not defined",
          "output_type": "error",
          "traceback": [
            "\u001b[1;31m---------------------------------------------------------------------------\u001b[0m",
            "\u001b[1;31mNameError\u001b[0m                                 Traceback (most recent call last)",
            "Cell \u001b[1;32mIn [3], line 1\u001b[0m\n\u001b[1;32m----> 1\u001b[0m \u001b[38;5;28mprint\u001b[39m(\u001b[38;5;28mlen\u001b[39m(\u001b[43mreviews_df\u001b[49m))\n",
            "\u001b[1;31mNameError\u001b[0m: name 'reviews_df' is not defined"
          ]
        }
      ],
      "source": [
        "print(len(reviews_df))"
      ]
    },
    {
      "cell_type": "code",
      "execution_count": null,
      "metadata": {
        "id": "3jBGpsMQCFKN",
        "outputId": "a8eff5d3-9504-4e78-f222-ce2d1d3c543f"
      },
      "outputs": [
        {
          "ename": "NameError",
          "evalue": "name 'reviews_df' is not defined",
          "output_type": "error",
          "traceback": [
            "\u001b[1;31m---------------------------------------------------------------------------\u001b[0m",
            "\u001b[1;31mNameError\u001b[0m                                 Traceback (most recent call last)",
            "Cell \u001b[1;32mIn [1], line 1\u001b[0m\n\u001b[1;32m----> 1\u001b[0m \u001b[43mreviews_df\u001b[49m\u001b[38;5;241m.\u001b[39mhead(\u001b[38;5;241m50\u001b[39m)\n",
            "\u001b[1;31mNameError\u001b[0m: name 'reviews_df' is not defined"
          ]
        }
      ],
      "source": [
        "reviews_df.head(50)"
      ]
    },
    {
      "cell_type": "code",
      "execution_count": null,
      "metadata": {
        "id": "mNqPI9p-CFKO"
      },
      "outputs": [],
      "source": []
    }
  ],
  "metadata": {
    "kernelspec": {
      "display_name": "Python 3",
      "language": "python",
      "name": "python3"
    },
    "language_info": {
      "codemirror_mode": {
        "name": "ipython",
        "version": 3
      },
      "file_extension": ".py",
      "mimetype": "text/x-python",
      "name": "python",
      "nbconvert_exporter": "python",
      "pygments_lexer": "ipython3",
      "version": "3.8.8"
    },
    "colab": {
      "provenance": []
    }
  },
  "nbformat": 4,
  "nbformat_minor": 0
}